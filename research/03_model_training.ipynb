{
 "cells": [
  {
   "cell_type": "code",
   "execution_count": 1,
   "metadata": {},
   "outputs": [],
   "source": [
    "import os"
   ]
  },
  {
   "cell_type": "code",
   "execution_count": 2,
   "metadata": {},
   "outputs": [],
   "source": [
    "os.chdir(\"../\")"
   ]
  },
  {
   "cell_type": "code",
   "execution_count": 3,
   "metadata": {},
   "outputs": [
    {
     "data": {
      "text/plain": [
       "'d:\\\\python\\\\Deep Learning Project\\\\Kidney-Disease-Classification'"
      ]
     },
     "execution_count": 3,
     "metadata": {},
     "output_type": "execute_result"
    }
   ],
   "source": [
    "%pwd"
   ]
  },
  {
   "cell_type": "code",
   "execution_count": 4,
   "metadata": {},
   "outputs": [],
   "source": [
    "from dataclasses import dataclass\n",
    "from pathlib import Path\n",
    "\n",
    "\n",
    "@dataclass(frozen=True)\n",
    "class TrainingConfig:\n",
    "    root_dir: Path\n",
    "    trained_model_path: Path\n",
    "    updated_base_model_path: Path\n",
    "    training_data: Path\n",
    "    params_epochs: int\n",
    "    params_batch_size: int\n",
    "    params_is_augmentation: bool\n",
    "    params_image_size: list"
   ]
  },
  {
   "cell_type": "code",
   "execution_count": 5,
   "metadata": {},
   "outputs": [],
   "source": [
    "from cnnClassifier.constants import *\n",
    "from cnnClassifier.utils.common import read_yaml, create_directories\n",
    "import tensorflow as tf"
   ]
  },
  {
   "cell_type": "code",
   "execution_count": 6,
   "metadata": {},
   "outputs": [],
   "source": [
    "class ConfigurationManager:\n",
    "    def __init__(\n",
    "        self, config_filepath=CONFIG_FILE_PATH, params_filepath=PARAMS_FILE_PATH\n",
    "    ):\n",
    "\n",
    "        self.config = read_yaml(config_filepath)\n",
    "        self.params = read_yaml(params_filepath)\n",
    "\n",
    "        create_directories([self.config.artifacts_root])\n",
    "\n",
    "    def get_training_config(self) -> TrainingConfig:\n",
    "        training = self.config.training\n",
    "        prepare_base_model = self.config.prepare_base_model\n",
    "        params = self.params\n",
    "        training_data = os.path.join(\n",
    "            self.config.data_ingestion.unzip_dir,\n",
    "            \"CT-KIDNEY-DATASET-Normal-Cyst-Tumor-Stone\"\n",
    "        )\n",
    "        \n",
    "        create_directories([Path(training.root_dir)])\n",
    "\n",
    "        \n",
    "\n",
    "        training_config = TrainingConfig(\n",
    "            root_dir=Path(training.root_dir),\n",
    "            trained_model_path=Path(training.trained_model_path),\n",
    "            updated_base_model_path=Path(prepare_base_model.updated_base_model_path),\n",
    "            training_data=Path(training_data),\n",
    "            params_epochs=params.EPOCHS,\n",
    "            params_batch_size=params.BATCH_SIZE,\n",
    "            params_is_augmentation=params.AUGMENTATION,\n",
    "            params_image_size=params.IMAGE_SIZE,\n",
    "        )\n",
    "\n",
    "        return training_config\n",
    "    \n",
    "\n"
   ]
  },
  {
   "cell_type": "code",
   "execution_count": 7,
   "metadata": {},
   "outputs": [],
   "source": [
    "import os\n",
    "import urllib.request as request\n",
    "from zipfile import ZipFile\n",
    "import tensorflow as tf\n",
    "import time"
   ]
  },
  {
   "cell_type": "code",
   "execution_count": 8,
   "metadata": {},
   "outputs": [
    {
     "name": "stdout",
     "output_type": "stream",
     "text": [
      "GPU available\n",
      "PhysicalDevice(name='/physical_device:GPU:0', device_type='GPU')\n"
     ]
    }
   ],
   "source": [
    "# Check if GPU is available\n",
    "gpus = tf.config.list_physical_devices(\"GPU\")\n",
    "\n",
    "if gpus:\n",
    "    print(\"GPU available\")\n",
    "    # Additional information about the GPUs\n",
    "    for gpu in gpus:\n",
    "        print(gpu)\n",
    "else:\n",
    "    print(\"No GPU available\")"
   ]
  },
  {
   "cell_type": "code",
   "execution_count": 9,
   "metadata": {},
   "outputs": [],
   "source": [
    "class Training:\n",
    "    def __init__(self, config: TrainingConfig):\n",
    "        self.config = config\n",
    "        self.gpu_available = tf.config.list_physical_devices(\"GPU\")\n",
    "\n",
    "    def get_base_model(self):\n",
    "        self.model = tf.keras.models.load_model(self.config.updated_base_model_path)\n",
    "\n",
    "    def train_valid_generator(self):\n",
    "        datagenerator_kwargs = dict(rescale=1.0 / 255, validation_split=0.20)\n",
    "\n",
    "        dataflow_kwargs = dict(\n",
    "            target_size=self.config.params_image_size[:-1],\n",
    "            batch_size=self.config.params_batch_size,\n",
    "            interpolation=\"bilinear\",\n",
    "        )\n",
    "\n",
    "        valid_datagenerator = tf.keras.preprocessing.image.ImageDataGenerator(\n",
    "            **datagenerator_kwargs\n",
    "        )\n",
    "\n",
    "        self.valid_generator = valid_datagenerator.flow_from_directory(\n",
    "            directory=self.config.training_data,\n",
    "            subset=\"validation\",\n",
    "            shuffle=False,\n",
    "            **dataflow_kwargs\n",
    "        )\n",
    "\n",
    "        if self.config.params_is_augmentation:\n",
    "            train_datagenerator = tf.keras.preprocessing.image.ImageDataGenerator(\n",
    "                rotation_range=40,\n",
    "                horizontal_flip=True,\n",
    "                width_shift_range=0.2,\n",
    "                height_shift_range=0.2,\n",
    "                shear_range=0.2,\n",
    "                zoom_range=0.2,\n",
    "                **datagenerator_kwargs\n",
    "            )\n",
    "        else:\n",
    "            train_datagenerator = valid_datagenerator\n",
    "\n",
    "        self.train_generator = train_datagenerator.flow_from_directory(\n",
    "            directory=self.config.training_data,\n",
    "            subset=\"training\",\n",
    "            shuffle=True,\n",
    "            **dataflow_kwargs\n",
    "        )\n",
    "\n",
    "    @staticmethod\n",
    "    def save_model(path: Path, model: tf.keras.Model):\n",
    "        model.save(path)\n",
    "\n",
    "    def train_model(self):\n",
    "        self.steps_per_epoch = (\n",
    "            self.train_generator.samples // self.train_generator.batch_size\n",
    "        )\n",
    "        self.validation_steps = (\n",
    "            self.valid_generator.samples // self.valid_generator.batch_size\n",
    "        )\n",
    "\n",
    "        start_time = time.time()\n",
    "        for epoch in range(self.config.params_epochs):\n",
    "            print(f\"Epoch {epoch + 1}/{self.config.params_epochs}\")\n",
    "\n",
    "            # Training loop\n",
    "            epoch_start_time = time.time()\n",
    "            self.model.fit(\n",
    "                self.train_generator,\n",
    "                steps_per_epoch=self.steps_per_epoch,\n",
    "                validation_steps=self.validation_steps,\n",
    "                validation_data=self.valid_generator,\n",
    "                verbose=2\n",
    "            )\n",
    "            epoch_end_time = time.time()\n",
    "\n",
    "            epoch_time = epoch_end_time - epoch_start_time\n",
    "            print(f\"Epoch {epoch + 1} took {epoch_time:.2f} seconds\")\n",
    "\n",
    "        total_time = time.time() - start_time\n",
    "        print(f\"Training completed in {total_time:.2f} seconds\")\n",
    "\n",
    "        \n",
    "    def train(self):\n",
    "        if self.gpu_available:\n",
    "            print(\"GPU available. Using GPU...\")\n",
    "            with tf.device(\"/GPU:0\"):\n",
    "                self.train_model()\n",
    "        else:\n",
    "            print(\"No GPU available. Using CPU...\")\n",
    "            self.train_model()\n",
    "\n",
    "        self.save_model(path=self.config.trained_model_path, model=self.model)"
   ]
  },
  {
   "cell_type": "code",
   "execution_count": 10,
   "metadata": {},
   "outputs": [
    {
     "name": "stdout",
     "output_type": "stream",
     "text": [
      "Found 2487 images belonging to 4 classes.\n",
      "Found 9959 images belonging to 4 classes.\n",
      "GPU available. Using GPU...\n",
      "Epoch 1/5\n",
      "155/155 - 297s - loss: 1.3826 - accuracy: 0.3990 - val_loss: 1.1867 - val_accuracy: 0.5633 - 297s/epoch - 2s/step\n",
      "Epoch 1 took 298.80 seconds\n",
      "Epoch 2/5\n",
      "155/155 - 149s - loss: 1.1250 - accuracy: 0.5267 - val_loss: 1.0964 - val_accuracy: 0.5461 - 149s/epoch - 958ms/step\n",
      "Epoch 2 took 149.46 seconds\n",
      "Epoch 3/5\n",
      "155/155 - 161s - loss: 0.9967 - accuracy: 0.5994 - val_loss: 1.1351 - val_accuracy: 0.6414 - 161s/epoch - 1s/step\n",
      "Epoch 3 took 161.78 seconds\n",
      "Epoch 4/5\n",
      "155/155 - 143s - loss: 0.9193 - accuracy: 0.6410 - val_loss: 1.0588 - val_accuracy: 0.5855 - 143s/epoch - 921ms/step\n",
      "Epoch 4 took 143.59 seconds\n",
      "Epoch 5/5\n",
      "155/155 - 153s - loss: 0.8780 - accuracy: 0.6574 - val_loss: 1.0614 - val_accuracy: 0.6040 - 153s/epoch - 987ms/step\n",
      "Epoch 5 took 153.97 seconds\n",
      "Training completed in 907.60 seconds\n"
     ]
    }
   ],
   "source": [
    "try:\n",
    "    config = ConfigurationManager()\n",
    "    training_config = config.get_training_config()\n",
    "    training = Training(config=training_config)\n",
    "    training.get_base_model()\n",
    "    training.train_valid_generator()\n",
    "    training.train()\n",
    "\n",
    "except Exception as e:\n",
    "    raise e"
   ]
  }
 ],
 "metadata": {
  "kernelspec": {
   "display_name": "mygpu",
   "language": "python",
   "name": "python3"
  },
  "language_info": {
   "codemirror_mode": {
    "name": "ipython",
    "version": 3
   },
   "file_extension": ".py",
   "mimetype": "text/x-python",
   "name": "python",
   "nbconvert_exporter": "python",
   "pygments_lexer": "ipython3",
   "version": "3.8.18"
  }
 },
 "nbformat": 4,
 "nbformat_minor": 2
}
