{
 "cells": [
  {
   "cell_type": "code",
   "execution_count": 13,
   "metadata": {},
   "outputs": [],
   "source": [
    "import gdown"
   ]
  },
  {
   "cell_type": "code",
   "execution_count": 14,
   "metadata": {},
   "outputs": [],
   "source": [
    "url = (\n",
    "    \"https://drive.google.com/file/d/1rY_aR3rQ4DPVP8gefPhjiGFApDIa2ppn/view?usp=sharing\"\n",
    ")"
   ]
  },
  {
   "cell_type": "code",
   "execution_count": 15,
   "metadata": {},
   "outputs": [
    {
     "name": "stdout",
     "output_type": "stream",
     "text": [
      "1rY_aR3rQ4DPVP8gefPhjiGFApDIa2ppn\n"
     ]
    }
   ],
   "source": [
    "file_id = url.split(\"/\")[-2]\n",
    "print(file_id)"
   ]
  },
  {
   "cell_type": "code",
   "execution_count": 16,
   "metadata": {},
   "outputs": [
    {
     "name": "stderr",
     "output_type": "stream",
     "text": [
      "Downloading...\n",
      "From (original): https://drive.google.com/uc?/export=download&id=1rY_aR3rQ4DPVP8gefPhjiGFApDIa2ppn\n",
      "From (redirected): https://drive.google.com/uc?%2Fexport=download&id=1rY_aR3rQ4DPVP8gefPhjiGFApDIa2ppn&confirm=t&uuid=2a2ccc1b-2155-4f64-bef9-5b00b8127780\n",
      "To: d:\\python\\Deep Learning Project\\Kidney-Disease-Classification\\research\\Kidney_CT_Scan_data.zip\n",
      "100%|██████████| 1.63G/1.63G [00:53<00:00, 30.7MB/s]\n"
     ]
    },
    {
     "data": {
      "text/plain": [
       "'Kidney_CT_Scan_data.zip'"
      ]
     },
     "execution_count": 16,
     "metadata": {},
     "output_type": "execute_result"
    }
   ],
   "source": [
    "prefix = \"https://drive.google.com/uc?/export=download&id=\"\n",
    "gdown.download(prefix+file_id, \"Kidney_CT_Scan_data.zip\")"
   ]
  },
  {
   "cell_type": "code",
   "execution_count": 13,
   "metadata": {},
   "outputs": [
    {
     "name": "stdout",
     "output_type": "stream",
     "text": [
      "2.2.1+cpu\n"
     ]
    }
   ],
   "source": [
    "import torch\n",
    "random_image_size_tensor = torch.rand(size=(224, 224, 3))\n",
    "print(torch.__version__)"
   ]
  },
  {
   "cell_type": "code",
   "execution_count": 8,
   "metadata": {},
   "outputs": [
    {
     "name": "stdout",
     "output_type": "stream",
     "text": [
      "tensor([[[0.9649, 0.1069, 0.0688],\n",
      "         [0.1659, 0.7629, 0.5198],\n",
      "         [0.0690, 0.4394, 0.6533],\n",
      "         ...,\n",
      "         [0.8237, 0.9568, 0.4893],\n",
      "         [0.9439, 0.9148, 0.6889],\n",
      "         [0.2468, 0.3826, 0.7623]],\n",
      "\n",
      "        [[0.4086, 0.9905, 0.6999],\n",
      "         [0.7791, 0.2354, 0.1757],\n",
      "         [0.3454, 0.0169, 0.3308],\n",
      "         ...,\n",
      "         [0.8466, 0.3555, 0.5955],\n",
      "         [0.4436, 0.8941, 0.5058],\n",
      "         [0.6362, 0.5668, 0.7818]],\n",
      "\n",
      "        [[0.0465, 0.8547, 0.9989],\n",
      "         [0.8335, 0.7757, 0.0097],\n",
      "         [0.7418, 0.3574, 0.3146],\n",
      "         ...,\n",
      "         [0.8492, 0.1409, 0.0707],\n",
      "         [0.4682, 0.9172, 0.6324],\n",
      "         [0.2862, 0.4220, 0.5740]],\n",
      "\n",
      "        ...,\n",
      "\n",
      "        [[0.4902, 0.4418, 0.9052],\n",
      "         [0.1669, 0.5209, 0.5515],\n",
      "         [0.9812, 0.7578, 0.7702],\n",
      "         ...,\n",
      "         [0.1389, 0.1909, 0.4297],\n",
      "         [0.0156, 0.2068, 0.4096],\n",
      "         [0.5452, 0.9897, 0.0738]],\n",
      "\n",
      "        [[0.7113, 0.9208, 0.7175],\n",
      "         [0.4978, 0.6222, 0.7231],\n",
      "         [0.4820, 0.2995, 0.9343],\n",
      "         ...,\n",
      "         [0.5015, 0.4246, 0.7844],\n",
      "         [0.2046, 0.5590, 0.8513],\n",
      "         [0.7090, 0.5807, 0.9632]],\n",
      "\n",
      "        [[0.6766, 0.6834, 0.0324],\n",
      "         [0.5848, 0.8127, 0.1260],\n",
      "         [0.0857, 0.7453, 0.5612],\n",
      "         ...,\n",
      "         [0.7895, 0.0493, 0.3796],\n",
      "         [0.7895, 0.0229, 0.3980],\n",
      "         [0.8730, 0.1923, 0.4526]]])\n"
     ]
    }
   ],
   "source": [
    "print(random_image_size_tensor)"
   ]
  },
  {
   "cell_type": "code",
   "execution_count": 9,
   "metadata": {},
   "outputs": [
    {
     "name": "stdout",
     "output_type": "stream",
     "text": [
      "tensor([  0,  77, 154, 231, 308, 385, 462, 539, 616, 693, 770, 847, 924])\n"
     ]
    }
   ],
   "source": [
    "one_to_ten = torch.arange(start=0,end=1000,step=77)\n",
    "print(one_to_ten)"
   ]
  },
  {
   "cell_type": "code",
   "execution_count": 10,
   "metadata": {},
   "outputs": [],
   "source": [
    "float_32_tensor = torch.tensor(\n",
    "    [3.0, 6.0, 9.0], dtype=torch.float16, device=None, requires_grad=False)\n"
   ]
  },
  {
   "cell_type": "code",
   "execution_count": 12,
   "metadata": {},
   "outputs": [
    {
     "name": "stdout",
     "output_type": "stream",
     "text": [
      "0\n",
      "Unexpected exception formatting exception. Falling back to standard exception\n"
     ]
    },
    {
     "name": "stderr",
     "output_type": "stream",
     "text": [
      "Traceback (most recent call last):\n",
      "  File \"c:\\Users\\ACER\\anaconda3\\envs\\mygpu\\lib\\site-packages\\IPython\\core\\interactiveshell.py\", line 3508, in run_code\n",
      "    exec(code_obj, self.user_global_ns, self.user_ns)\n",
      "  File \"C:\\Users\\ACER\\AppData\\Local\\Temp\\ipykernel_3256\\3217318452.py\", line 2, in <module>\n",
      "    print(torch.cuda.get_device_name(0))\n",
      "  File \"c:\\Users\\ACER\\anaconda3\\envs\\mygpu\\lib\\site-packages\\torch\\cuda\\__init__.py\", line 423, in get_device_name\n",
      "    the currently selected :class:`Stream` for the current device, given\n",
      "  File \"c:\\Users\\ACER\\anaconda3\\envs\\mygpu\\lib\\site-packages\\torch\\cuda\\__init__.py\", line 453, in get_device_properties\n",
      "  File \"c:\\Users\\ACER\\anaconda3\\envs\\mygpu\\lib\\site-packages\\torch\\cuda\\__init__.py\", line 293, in _lazy_init\n",
      "    return prop.major, prop.minor\n",
      "AssertionError: Torch not compiled with CUDA enabled\n",
      "\n",
      "During handling of the above exception, another exception occurred:\n",
      "\n",
      "Traceback (most recent call last):\n",
      "  File \"c:\\Users\\ACER\\anaconda3\\envs\\mygpu\\lib\\site-packages\\IPython\\core\\interactiveshell.py\", line 2105, in showtraceback\n",
      "    stb = self.InteractiveTB.structured_traceback(\n",
      "  File \"c:\\Users\\ACER\\anaconda3\\envs\\mygpu\\lib\\site-packages\\IPython\\core\\ultratb.py\", line 1396, in structured_traceback\n",
      "    return FormattedTB.structured_traceback(\n",
      "  File \"c:\\Users\\ACER\\anaconda3\\envs\\mygpu\\lib\\site-packages\\IPython\\core\\ultratb.py\", line 1287, in structured_traceback\n",
      "    return VerboseTB.structured_traceback(\n",
      "  File \"c:\\Users\\ACER\\anaconda3\\envs\\mygpu\\lib\\site-packages\\IPython\\core\\ultratb.py\", line 1140, in structured_traceback\n",
      "    formatted_exception = self.format_exception_as_a_whole(etype, evalue, etb, number_of_lines_of_context,\n",
      "  File \"c:\\Users\\ACER\\anaconda3\\envs\\mygpu\\lib\\site-packages\\IPython\\core\\ultratb.py\", line 1055, in format_exception_as_a_whole\n",
      "    frames.append(self.format_record(record))\n",
      "  File \"c:\\Users\\ACER\\anaconda3\\envs\\mygpu\\lib\\site-packages\\IPython\\core\\ultratb.py\", line 955, in format_record\n",
      "    frame_info.lines, Colors, self.has_colors, lvals\n",
      "  File \"c:\\Users\\ACER\\anaconda3\\envs\\mygpu\\lib\\site-packages\\IPython\\core\\ultratb.py\", line 778, in lines\n",
      "    return self._sd.lines\n",
      "  File \"c:\\Users\\ACER\\anaconda3\\envs\\mygpu\\lib\\site-packages\\stack_data\\utils.py\", line 144, in cached_property_wrapper\n",
      "    value = obj.__dict__[self.func.__name__] = self.func(obj)\n",
      "  File \"c:\\Users\\ACER\\anaconda3\\envs\\mygpu\\lib\\site-packages\\stack_data\\core.py\", line 734, in lines\n",
      "    pieces = self.included_pieces\n",
      "  File \"c:\\Users\\ACER\\anaconda3\\envs\\mygpu\\lib\\site-packages\\stack_data\\utils.py\", line 144, in cached_property_wrapper\n",
      "    value = obj.__dict__[self.func.__name__] = self.func(obj)\n",
      "  File \"c:\\Users\\ACER\\anaconda3\\envs\\mygpu\\lib\\site-packages\\stack_data\\core.py\", line 681, in included_pieces\n",
      "    pos = scope_pieces.index(self.executing_piece)\n",
      "  File \"c:\\Users\\ACER\\anaconda3\\envs\\mygpu\\lib\\site-packages\\stack_data\\utils.py\", line 144, in cached_property_wrapper\n",
      "    value = obj.__dict__[self.func.__name__] = self.func(obj)\n",
      "  File \"c:\\Users\\ACER\\anaconda3\\envs\\mygpu\\lib\\site-packages\\stack_data\\core.py\", line 660, in executing_piece\n",
      "    return only(\n",
      "  File \"c:\\Users\\ACER\\anaconda3\\envs\\mygpu\\lib\\site-packages\\executing\\executing.py\", line 116, in only\n",
      "    raise NotOneValueFound('Expected one value, found 0')\n",
      "executing.executing.NotOneValueFound: Expected one value, found 0\n"
     ]
    }
   ],
   "source": [
    "print(torch.cuda.device_count())\n",
    "print(torch.cuda.get_device_name(0))"
   ]
  },
  {
   "cell_type": "code",
   "execution_count": null,
   "metadata": {},
   "outputs": [],
   "source": []
  }
 ],
 "metadata": {
  "kernelspec": {
   "display_name": "mygpu",
   "language": "python",
   "name": "python3"
  },
  "language_info": {
   "codemirror_mode": {
    "name": "ipython",
    "version": 3
   },
   "file_extension": ".py",
   "mimetype": "text/x-python",
   "name": "python",
   "nbconvert_exporter": "python",
   "pygments_lexer": "ipython3",
   "version": "3.8.18"
  }
 },
 "nbformat": 4,
 "nbformat_minor": 2
}
