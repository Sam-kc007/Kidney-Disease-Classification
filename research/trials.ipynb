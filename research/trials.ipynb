{
 "cells": [
  {
   "cell_type": "code",
   "execution_count": 13,
   "metadata": {},
   "outputs": [],
   "source": [
    "import gdown"
   ]
  },
  {
   "cell_type": "code",
   "execution_count": 14,
   "metadata": {},
   "outputs": [],
   "source": [
    "url = (\n",
    "    \"https://drive.google.com/file/d/1rY_aR3rQ4DPVP8gefPhjiGFApDIa2ppn/view?usp=sharing\"\n",
    ")"
   ]
  },
  {
   "cell_type": "code",
   "execution_count": 15,
   "metadata": {},
   "outputs": [
    {
     "name": "stdout",
     "output_type": "stream",
     "text": [
      "1rY_aR3rQ4DPVP8gefPhjiGFApDIa2ppn\n"
     ]
    }
   ],
   "source": [
    "file_id = url.split(\"/\")[-2]\n",
    "print(file_id)"
   ]
  },
  {
   "cell_type": "code",
   "execution_count": 16,
   "metadata": {},
   "outputs": [
    {
     "name": "stderr",
     "output_type": "stream",
     "text": [
      "Downloading...\n",
      "From (original): https://drive.google.com/uc?/export=download&id=1rY_aR3rQ4DPVP8gefPhjiGFApDIa2ppn\n",
      "From (redirected): https://drive.google.com/uc?%2Fexport=download&id=1rY_aR3rQ4DPVP8gefPhjiGFApDIa2ppn&confirm=t&uuid=2a2ccc1b-2155-4f64-bef9-5b00b8127780\n",
      "To: d:\\python\\Deep Learning Project\\Kidney-Disease-Classification\\research\\Kidney_CT_Scan_data.zip\n",
      "100%|██████████| 1.63G/1.63G [00:53<00:00, 30.7MB/s]\n"
     ]
    },
    {
     "data": {
      "text/plain": [
       "'Kidney_CT_Scan_data.zip'"
      ]
     },
     "execution_count": 16,
     "metadata": {},
     "output_type": "execute_result"
    }
   ],
   "source": [
    "prefix = \"https://drive.google.com/uc?/export=download&id=\"\n",
    "gdown.download(prefix+file_id, \"Kidney_CT_Scan_data.zip\")"
   ]
  },
  {
   "cell_type": "code",
   "execution_count": null,
   "metadata": {},
   "outputs": [],
   "source": []
  }
 ],
 "metadata": {
  "kernelspec": {
   "display_name": "mygpu",
   "language": "python",
   "name": "python3"
  },
  "language_info": {
   "codemirror_mode": {
    "name": "ipython",
    "version": 3
   },
   "file_extension": ".py",
   "mimetype": "text/x-python",
   "name": "python",
   "nbconvert_exporter": "python",
   "pygments_lexer": "ipython3",
   "version": "3.8.18"
  }
 },
 "nbformat": 4,
 "nbformat_minor": 2
}
